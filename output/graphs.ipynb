{
 "cells": [
  {
   "cell_type": "code",
   "execution_count": 13,
   "id": "269f46f3",
   "metadata": {},
   "outputs": [
    {
     "name": "stderr",
     "output_type": "stream",
     "text": [
      "\n",
      "Attaching package: ‘magrittr’\n",
      "\n",
      "\n",
      "The following object is masked from ‘package:purrr’:\n",
      "\n",
      "    set_names\n",
      "\n",
      "\n",
      "The following object is masked from ‘package:tidyr’:\n",
      "\n",
      "    extract\n",
      "\n",
      "\n"
     ]
    }
   ],
   "source": [
    "library(ggplot2)\n",
    "library(tidyverse)\n",
    "library(magrittr)"
   ]
  },
  {
   "cell_type": "code",
   "execution_count": 16,
   "id": "85deb3ff",
   "metadata": {},
   "outputs": [
    {
     "data": {
      "text/html": [
       "<style>\n",
       ".list-inline {list-style: none; margin:0; padding: 0}\n",
       ".list-inline>li {display: inline-block}\n",
       ".list-inline>li:not(:last-child)::after {content: \"\\00b7\"; padding: 0 .5ex}\n",
       "</style>\n",
       "<ol class=list-inline><li>'alpha'</li><li>'mean'</li><li>'err'</li><li>'mean_random'</li><li>'err_mean_random'</li></ol>\n"
      ],
      "text/latex": [
       "\\begin{enumerate*}\n",
       "\\item 'alpha'\n",
       "\\item 'mean'\n",
       "\\item 'err'\n",
       "\\item 'mean\\_random'\n",
       "\\item 'err\\_mean\\_random'\n",
       "\\end{enumerate*}\n"
      ],
      "text/markdown": [
       "1. 'alpha'\n",
       "2. 'mean'\n",
       "3. 'err'\n",
       "4. 'mean_random'\n",
       "5. 'err_mean_random'\n",
       "\n",
       "\n"
      ],
      "text/plain": [
       "[1] \"alpha\"           \"mean\"            \"err\"             \"mean_random\"    \n",
       "[5] \"err_mean_random\""
      ]
     },
     "metadata": {},
     "output_type": "display_data"
    }
   ],
   "source": [
    "df<-read.csv('conf/conf_1000_40means_25gamma_2kmin.csv')\n",
    "df%<>% select(-X)\n",
    "colnames(df)"
   ]
  },
  {
   "cell_type": "code",
   "execution_count": 27,
   "id": "df9946f1",
   "metadata": {},
   "outputs": [
    {
     "data": {
      "text/html": [
       "<table class=\"dataframe\">\n",
       "<caption>A data.frame: 15 × 5</caption>\n",
       "<thead>\n",
       "\t<tr><th scope=col>alpha</th><th scope=col>mean</th><th scope=col>err</th><th scope=col>mean_random</th><th scope=col>err_mean_random</th></tr>\n",
       "\t<tr><th scope=col>&lt;dbl&gt;</th><th scope=col>&lt;dbl&gt;</th><th scope=col>&lt;dbl&gt;</th><th scope=col>&lt;dbl&gt;</th><th scope=col>&lt;dbl&gt;</th></tr>\n",
       "</thead>\n",
       "<tbody>\n",
       "\t<tr><td>0.00</td><td>0.005925</td><td>0.003407289</td><td>0.536925</td><td>0.2309821158</td></tr>\n",
       "\t<tr><td>0.05</td><td>0.007650</td><td>0.006112409</td><td>0.962350</td><td>0.0659423019</td></tr>\n",
       "\t<tr><td>0.10</td><td>0.008975</td><td>0.006057365</td><td>0.979875</td><td>0.0503022595</td></tr>\n",
       "\t<tr><td>0.20</td><td>0.023650</td><td>0.048483436</td><td>0.992825</td><td>0.0175672882</td></tr>\n",
       "\t<tr><td>0.30</td><td>0.054850</td><td>0.085071177</td><td>0.997025</td><td>0.0048064460</td></tr>\n",
       "\t<tr><td>0.40</td><td>0.074050</td><td>0.119066659</td><td>0.994400</td><td>0.0114708102</td></tr>\n",
       "\t<tr><td>0.50</td><td>0.118400</td><td>0.150416993</td><td>0.996600</td><td>0.0093061876</td></tr>\n",
       "\t<tr><td>0.60</td><td>0.200125</td><td>0.206536541</td><td>0.997725</td><td>0.0036513959</td></tr>\n",
       "\t<tr><td>0.70</td><td>0.252500</td><td>0.211213466</td><td>0.997725</td><td>0.0031944463</td></tr>\n",
       "\t<tr><td>0.80</td><td>0.241825</td><td>0.229042364</td><td>0.997875</td><td>0.0027192335</td></tr>\n",
       "\t<tr><td>0.90</td><td>0.280875</td><td>0.230397670</td><td>0.997425</td><td>0.0036506936</td></tr>\n",
       "\t<tr><td>1.00</td><td>0.276975</td><td>0.194020814</td><td>0.998200</td><td>0.0020406133</td></tr>\n",
       "\t<tr><td>1.10</td><td>0.304575</td><td>0.252060726</td><td>0.998450</td><td>0.0010609623</td></tr>\n",
       "\t<tr><td>1.20</td><td>0.318575</td><td>0.279163116</td><td>0.998525</td><td>0.0011764244</td></tr>\n",
       "\t<tr><td>1.50</td><td>0.395375</td><td>0.294035205</td><td>0.998800</td><td>0.0006076436</td></tr>\n",
       "</tbody>\n",
       "</table>\n"
      ],
      "text/latex": [
       "A data.frame: 15 × 5\n",
       "\\begin{tabular}{lllll}\n",
       " alpha & mean & err & mean\\_random & err\\_mean\\_random\\\\\n",
       " <dbl> & <dbl> & <dbl> & <dbl> & <dbl>\\\\\n",
       "\\hline\n",
       "\t 0.00 & 0.005925 & 0.003407289 & 0.536925 & 0.2309821158\\\\\n",
       "\t 0.05 & 0.007650 & 0.006112409 & 0.962350 & 0.0659423019\\\\\n",
       "\t 0.10 & 0.008975 & 0.006057365 & 0.979875 & 0.0503022595\\\\\n",
       "\t 0.20 & 0.023650 & 0.048483436 & 0.992825 & 0.0175672882\\\\\n",
       "\t 0.30 & 0.054850 & 0.085071177 & 0.997025 & 0.0048064460\\\\\n",
       "\t 0.40 & 0.074050 & 0.119066659 & 0.994400 & 0.0114708102\\\\\n",
       "\t 0.50 & 0.118400 & 0.150416993 & 0.996600 & 0.0093061876\\\\\n",
       "\t 0.60 & 0.200125 & 0.206536541 & 0.997725 & 0.0036513959\\\\\n",
       "\t 0.70 & 0.252500 & 0.211213466 & 0.997725 & 0.0031944463\\\\\n",
       "\t 0.80 & 0.241825 & 0.229042364 & 0.997875 & 0.0027192335\\\\\n",
       "\t 0.90 & 0.280875 & 0.230397670 & 0.997425 & 0.0036506936\\\\\n",
       "\t 1.00 & 0.276975 & 0.194020814 & 0.998200 & 0.0020406133\\\\\n",
       "\t 1.10 & 0.304575 & 0.252060726 & 0.998450 & 0.0010609623\\\\\n",
       "\t 1.20 & 0.318575 & 0.279163116 & 0.998525 & 0.0011764244\\\\\n",
       "\t 1.50 & 0.395375 & 0.294035205 & 0.998800 & 0.0006076436\\\\\n",
       "\\end{tabular}\n"
      ],
      "text/markdown": [
       "\n",
       "A data.frame: 15 × 5\n",
       "\n",
       "| alpha &lt;dbl&gt; | mean &lt;dbl&gt; | err &lt;dbl&gt; | mean_random &lt;dbl&gt; | err_mean_random &lt;dbl&gt; |\n",
       "|---|---|---|---|---|\n",
       "| 0.00 | 0.005925 | 0.003407289 | 0.536925 | 0.2309821158 |\n",
       "| 0.05 | 0.007650 | 0.006112409 | 0.962350 | 0.0659423019 |\n",
       "| 0.10 | 0.008975 | 0.006057365 | 0.979875 | 0.0503022595 |\n",
       "| 0.20 | 0.023650 | 0.048483436 | 0.992825 | 0.0175672882 |\n",
       "| 0.30 | 0.054850 | 0.085071177 | 0.997025 | 0.0048064460 |\n",
       "| 0.40 | 0.074050 | 0.119066659 | 0.994400 | 0.0114708102 |\n",
       "| 0.50 | 0.118400 | 0.150416993 | 0.996600 | 0.0093061876 |\n",
       "| 0.60 | 0.200125 | 0.206536541 | 0.997725 | 0.0036513959 |\n",
       "| 0.70 | 0.252500 | 0.211213466 | 0.997725 | 0.0031944463 |\n",
       "| 0.80 | 0.241825 | 0.229042364 | 0.997875 | 0.0027192335 |\n",
       "| 0.90 | 0.280875 | 0.230397670 | 0.997425 | 0.0036506936 |\n",
       "| 1.00 | 0.276975 | 0.194020814 | 0.998200 | 0.0020406133 |\n",
       "| 1.10 | 0.304575 | 0.252060726 | 0.998450 | 0.0010609623 |\n",
       "| 1.20 | 0.318575 | 0.279163116 | 0.998525 | 0.0011764244 |\n",
       "| 1.50 | 0.395375 | 0.294035205 | 0.998800 | 0.0006076436 |\n",
       "\n"
      ],
      "text/plain": [
       "   alpha mean     err         mean_random err_mean_random\n",
       "1  0.00  0.005925 0.003407289 0.536925    0.2309821158   \n",
       "2  0.05  0.007650 0.006112409 0.962350    0.0659423019   \n",
       "3  0.10  0.008975 0.006057365 0.979875    0.0503022595   \n",
       "4  0.20  0.023650 0.048483436 0.992825    0.0175672882   \n",
       "5  0.30  0.054850 0.085071177 0.997025    0.0048064460   \n",
       "6  0.40  0.074050 0.119066659 0.994400    0.0114708102   \n",
       "7  0.50  0.118400 0.150416993 0.996600    0.0093061876   \n",
       "8  0.60  0.200125 0.206536541 0.997725    0.0036513959   \n",
       "9  0.70  0.252500 0.211213466 0.997725    0.0031944463   \n",
       "10 0.80  0.241825 0.229042364 0.997875    0.0027192335   \n",
       "11 0.90  0.280875 0.230397670 0.997425    0.0036506936   \n",
       "12 1.00  0.276975 0.194020814 0.998200    0.0020406133   \n",
       "13 1.10  0.304575 0.252060726 0.998450    0.0010609623   \n",
       "14 1.20  0.318575 0.279163116 0.998525    0.0011764244   \n",
       "15 1.50  0.395375 0.294035205 0.998800    0.0006076436   "
      ]
     },
     "metadata": {},
     "output_type": "display_data"
    }
   ],
   "source": [
    "df"
   ]
  },
  {
   "cell_type": "code",
   "execution_count": 26,
   "id": "659cb831",
   "metadata": {},
   "outputs": [
    {
     "name": "stderr",
     "output_type": "stream",
     "text": [
      "Warning message:\n",
      "“\u001b[1m\u001b[22mRemoved 5 rows containing missing values (`geom_segment()`).”\n"
     ]
    },
    {
     "data": {
      "image/png": "[encoded data removed]",
      "text/plain": [
       "plot without title"
      ]
     },
     "metadata": {
      "image/png": {
       "height": 420,
       "width": 420
      }
     },
     "output_type": "display_data"
    }
   ],
   "source": [
    "ggplot(df, aes(x = alpha, y = mean)) + geom_point() + geom_line() + geom_linerange(aes(x = alpha,\n",
    "    ymin = mean - err, ymax = mean + err)) + ylim(0, 1)"
   ]
  }
 ],
 "metadata": {
  "kernelspec": {
   "display_name": "R",
   "language": "R",
   "name": "ir"
  },
  "language_info": {
   "codemirror_mode": "r",
   "file_extension": ".r",
   "mimetype": "text/x-r-source",
   "name": "R",
   "pygments_lexer": "r",
   "version": "4.2.2"
  }
 },
 "nbformat": 4,
 "nbformat_minor": 5
}
