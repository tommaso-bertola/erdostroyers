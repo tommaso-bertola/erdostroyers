{
 "cells": [
  {
   "cell_type": "code",
   "execution_count": 1,
   "id": "70e4599a",
   "metadata": {},
   "outputs": [
    {
     "name": "stderr",
     "output_type": "stream",
     "text": [
      "Warning message in system(\"timedatectl\", intern = TRUE):\n",
      "“running command 'timedatectl' had status 1”\n",
      "── \u001b[1mAttaching packages\u001b[22m ─────────────────────────────────────────────────────────────────────────────── tidyverse 1.3.1 ──\n",
      "\n",
      "\u001b[32m✔\u001b[39m \u001b[34mggplot2\u001b[39m 3.4.1     \u001b[32m✔\u001b[39m \u001b[34mpurrr  \u001b[39m 1.0.1\n",
      "\u001b[32m✔\u001b[39m \u001b[34mtibble \u001b[39m 3.2.0     \u001b[32m✔\u001b[39m \u001b[34mdplyr  \u001b[39m 1.1.0\n",
      "\u001b[32m✔\u001b[39m \u001b[34mtidyr  \u001b[39m 1.3.0     \u001b[32m✔\u001b[39m \u001b[34mstringr\u001b[39m 1.5.0\n",
      "\u001b[32m✔\u001b[39m \u001b[34mreadr  \u001b[39m 2.1.4     \u001b[32m✔\u001b[39m \u001b[34mforcats\u001b[39m 1.0.0\n",
      "\n",
      "── \u001b[1mConflicts\u001b[22m ────────────────────────────────────────────────────────────────────────────────── tidyverse_conflicts() ──\n",
      "\u001b[31m✖\u001b[39m \u001b[34mdplyr\u001b[39m::\u001b[32mfilter()\u001b[39m  masks \u001b[34mstats\u001b[39m::filter()\n",
      "\u001b[31m✖\u001b[39m \u001b[34mpurrr\u001b[39m::\u001b[32mflatten()\u001b[39m masks \u001b[34mjsonlite\u001b[39m::flatten()\n",
      "\u001b[31m✖\u001b[39m \u001b[34mdplyr\u001b[39m::\u001b[32mlag()\u001b[39m     masks \u001b[34mstats\u001b[39m::lag()\n",
      "\n",
      "\n",
      "Attaching package: ‘magrittr’\n",
      "\n",
      "\n",
      "The following object is masked from ‘package:purrr’:\n",
      "\n",
      "    set_names\n",
      "\n",
      "\n",
      "The following object is masked from ‘package:tidyr’:\n",
      "\n",
      "    extract\n",
      "\n",
      "\n"
     ]
    }
   ],
   "source": [
    "library(tidyverse)\n",
    "library(magrittr)"
   ]
  },
  {
   "cell_type": "code",
   "execution_count": 2,
   "id": "e15ae0a4",
   "metadata": {},
   "outputs": [],
   "source": [
    "library(ggplot2)"
   ]
  },
  {
   "cell_type": "code",
   "execution_count": 3,
   "id": "16e3a840",
   "metadata": {},
   "outputs": [],
   "source": [
    "# conf<-read.csv('conf_5000_k2_g3.csv')\n",
    "# ba<-read.csv('barabasi_5000_k1_g3.csv')"
   ]
  },
  {
   "cell_type": "code",
   "execution_count": 4,
   "id": "007d33e9",
   "metadata": {},
   "outputs": [],
   "source": [
    "# conf %<>% select(-X) %>% mutate(c='conf')\n",
    "# ba %<>% select(-X) %>% mutate(c='barabasi')"
   ]
  },
  {
   "cell_type": "code",
   "execution_count": 5,
   "id": "b11bebc7",
   "metadata": {},
   "outputs": [],
   "source": [
    "# df<-rbind(conf, ba)"
   ]
  },
  {
   "cell_type": "code",
   "execution_count": 6,
   "id": "c6670070",
   "metadata": {},
   "outputs": [],
   "source": [
    "# ggplot(df, aes(x=alpha, y=mean, col=c))+geom_point()+geom_errorbar(aes(x=alpha, ymin=mean-err, ymax=mean+err))+geom_line()"
   ]
  },
  {
   "cell_type": "code",
   "execution_count": 7,
   "id": "e6dc7dba",
   "metadata": {},
   "outputs": [],
   "source": [
    "er<-read.csv('pa_1000_40means_with_m_3_normalized.csv')"
   ]
  },
  {
   "cell_type": "code",
   "execution_count": 8,
   "id": "da08cf84",
   "metadata": {},
   "outputs": [],
   "source": [
    "# er2<-read.csv('conf_7000_50means_3gamma_2kmin.csv')"
   ]
  },
  {
   "cell_type": "code",
   "execution_count": 9,
   "id": "f4527699",
   "metadata": {},
   "outputs": [],
   "source": [
    "er %<>% select(-X) %>% mutate(c='er')"
   ]
  },
  {
   "cell_type": "code",
   "execution_count": 10,
   "id": "5d076883",
   "metadata": {},
   "outputs": [],
   "source": [
    "# er2 %<>% select(-X) %>% mutate(c='er')"
   ]
  },
  {
   "cell_type": "code",
   "execution_count": 11,
   "id": "cdec21d5",
   "metadata": {},
   "outputs": [],
   "source": [
    "# er<-rbind(er, er2)"
   ]
  },
  {
   "cell_type": "code",
   "execution_count": 12,
   "id": "56c18de9",
   "metadata": {},
   "outputs": [
    {
     "data": {
      "text/html": [
       "<table class=\"dataframe\">\n",
       "<caption>A data.frame: 15 × 6</caption>\n",
       "<thead>\n",
       "\t<tr><th scope=col>alpha</th><th scope=col>mean</th><th scope=col>err</th><th scope=col>mean_random</th><th scope=col>err_mean_random</th><th scope=col>c</th></tr>\n",
       "\t<tr><th scope=col>&lt;dbl&gt;</th><th scope=col>&lt;dbl&gt;</th><th scope=col>&lt;dbl&gt;</th><th scope=col>&lt;dbl&gt;</th><th scope=col>&lt;dbl&gt;</th><th scope=col>&lt;chr&gt;</th></tr>\n",
       "</thead>\n",
       "<tbody>\n",
       "\t<tr><td>0.00</td><td>0.006750</td><td>0.001629063</td><td>0.003050</td><td>0.0017823925</td><td>er</td></tr>\n",
       "\t<tr><td>0.05</td><td>0.009125</td><td>0.003283115</td><td>0.651900</td><td>0.4788365601</td><td>er</td></tr>\n",
       "\t<tr><td>0.10</td><td>0.011225</td><td>0.003222417</td><td>0.702450</td><td>0.4576719209</td><td>er</td></tr>\n",
       "\t<tr><td>0.20</td><td>0.007975</td><td>0.003511793</td><td>0.997350</td><td>0.0041109610</td><td>er</td></tr>\n",
       "\t<tr><td>0.30</td><td>0.010600</td><td>0.005578346</td><td>0.973950</td><td>0.1493744134</td><td>er</td></tr>\n",
       "\t<tr><td>0.40</td><td>0.015800</td><td>0.008234387</td><td>0.998800</td><td>0.0008828857</td><td>er</td></tr>\n",
       "\t<tr><td>0.50</td><td>0.015775</td><td>0.007570142</td><td>0.998425</td><td>0.0013566078</td><td>er</td></tr>\n",
       "\t<tr><td>0.60</td><td>0.022650</td><td>0.013539212</td><td>0.998975</td><td>0.0001581139</td><td>er</td></tr>\n",
       "\t<tr><td>0.70</td><td>0.030550</td><td>0.019747054</td><td>0.998775</td><td>0.0009195177</td><td>er</td></tr>\n",
       "\t<tr><td>0.80</td><td>0.037375</td><td>0.036381657</td><td>0.998100</td><td>0.0024368959</td><td>er</td></tr>\n",
       "\t<tr><td>0.90</td><td>0.070925</td><td>0.129887602</td><td>0.998925</td><td>0.0004743416</td><td>er</td></tr>\n",
       "\t<tr><td>1.00</td><td>0.142975</td><td>0.226291676</td><td>0.998775</td><td>0.0008002403</td><td>er</td></tr>\n",
       "\t<tr><td>1.10</td><td>0.296925</td><td>0.368665117</td><td>0.998975</td><td>0.0001581139</td><td>er</td></tr>\n",
       "\t<tr><td>1.20</td><td>0.447550</td><td>0.404400154</td><td>0.999000</td><td>0.0000000000</td><td>er</td></tr>\n",
       "\t<tr><td>1.50</td><td>0.798275</td><td>0.260430707</td><td>0.998900</td><td>0.0006324555</td><td>er</td></tr>\n",
       "</tbody>\n",
       "</table>\n"
      ],
      "text/latex": [
       "A data.frame: 15 × 6\n",
       "\\begin{tabular}{llllll}\n",
       " alpha & mean & err & mean\\_random & err\\_mean\\_random & c\\\\\n",
       " <dbl> & <dbl> & <dbl> & <dbl> & <dbl> & <chr>\\\\\n",
       "\\hline\n",
       "\t 0.00 & 0.006750 & 0.001629063 & 0.003050 & 0.0017823925 & er\\\\\n",
       "\t 0.05 & 0.009125 & 0.003283115 & 0.651900 & 0.4788365601 & er\\\\\n",
       "\t 0.10 & 0.011225 & 0.003222417 & 0.702450 & 0.4576719209 & er\\\\\n",
       "\t 0.20 & 0.007975 & 0.003511793 & 0.997350 & 0.0041109610 & er\\\\\n",
       "\t 0.30 & 0.010600 & 0.005578346 & 0.973950 & 0.1493744134 & er\\\\\n",
       "\t 0.40 & 0.015800 & 0.008234387 & 0.998800 & 0.0008828857 & er\\\\\n",
       "\t 0.50 & 0.015775 & 0.007570142 & 0.998425 & 0.0013566078 & er\\\\\n",
       "\t 0.60 & 0.022650 & 0.013539212 & 0.998975 & 0.0001581139 & er\\\\\n",
       "\t 0.70 & 0.030550 & 0.019747054 & 0.998775 & 0.0009195177 & er\\\\\n",
       "\t 0.80 & 0.037375 & 0.036381657 & 0.998100 & 0.0024368959 & er\\\\\n",
       "\t 0.90 & 0.070925 & 0.129887602 & 0.998925 & 0.0004743416 & er\\\\\n",
       "\t 1.00 & 0.142975 & 0.226291676 & 0.998775 & 0.0008002403 & er\\\\\n",
       "\t 1.10 & 0.296925 & 0.368665117 & 0.998975 & 0.0001581139 & er\\\\\n",
       "\t 1.20 & 0.447550 & 0.404400154 & 0.999000 & 0.0000000000 & er\\\\\n",
       "\t 1.50 & 0.798275 & 0.260430707 & 0.998900 & 0.0006324555 & er\\\\\n",
       "\\end{tabular}\n"
      ],
      "text/markdown": [
       "\n",
       "A data.frame: 15 × 6\n",
       "\n",
       "| alpha &lt;dbl&gt; | mean &lt;dbl&gt; | err &lt;dbl&gt; | mean_random &lt;dbl&gt; | err_mean_random &lt;dbl&gt; | c &lt;chr&gt; |\n",
       "|---|---|---|---|---|---|\n",
       "| 0.00 | 0.006750 | 0.001629063 | 0.003050 | 0.0017823925 | er |\n",
       "| 0.05 | 0.009125 | 0.003283115 | 0.651900 | 0.4788365601 | er |\n",
       "| 0.10 | 0.011225 | 0.003222417 | 0.702450 | 0.4576719209 | er |\n",
       "| 0.20 | 0.007975 | 0.003511793 | 0.997350 | 0.0041109610 | er |\n",
       "| 0.30 | 0.010600 | 0.005578346 | 0.973950 | 0.1493744134 | er |\n",
       "| 0.40 | 0.015800 | 0.008234387 | 0.998800 | 0.0008828857 | er |\n",
       "| 0.50 | 0.015775 | 0.007570142 | 0.998425 | 0.0013566078 | er |\n",
       "| 0.60 | 0.022650 | 0.013539212 | 0.998975 | 0.0001581139 | er |\n",
       "| 0.70 | 0.030550 | 0.019747054 | 0.998775 | 0.0009195177 | er |\n",
       "| 0.80 | 0.037375 | 0.036381657 | 0.998100 | 0.0024368959 | er |\n",
       "| 0.90 | 0.070925 | 0.129887602 | 0.998925 | 0.0004743416 | er |\n",
       "| 1.00 | 0.142975 | 0.226291676 | 0.998775 | 0.0008002403 | er |\n",
       "| 1.10 | 0.296925 | 0.368665117 | 0.998975 | 0.0001581139 | er |\n",
       "| 1.20 | 0.447550 | 0.404400154 | 0.999000 | 0.0000000000 | er |\n",
       "| 1.50 | 0.798275 | 0.260430707 | 0.998900 | 0.0006324555 | er |\n",
       "\n"
      ],
      "text/plain": [
       "   alpha mean     err         mean_random err_mean_random c \n",
       "1  0.00  0.006750 0.001629063 0.003050    0.0017823925    er\n",
       "2  0.05  0.009125 0.003283115 0.651900    0.4788365601    er\n",
       "3  0.10  0.011225 0.003222417 0.702450    0.4576719209    er\n",
       "4  0.20  0.007975 0.003511793 0.997350    0.0041109610    er\n",
       "5  0.30  0.010600 0.005578346 0.973950    0.1493744134    er\n",
       "6  0.40  0.015800 0.008234387 0.998800    0.0008828857    er\n",
       "7  0.50  0.015775 0.007570142 0.998425    0.0013566078    er\n",
       "8  0.60  0.022650 0.013539212 0.998975    0.0001581139    er\n",
       "9  0.70  0.030550 0.019747054 0.998775    0.0009195177    er\n",
       "10 0.80  0.037375 0.036381657 0.998100    0.0024368959    er\n",
       "11 0.90  0.070925 0.129887602 0.998925    0.0004743416    er\n",
       "12 1.00  0.142975 0.226291676 0.998775    0.0008002403    er\n",
       "13 1.10  0.296925 0.368665117 0.998975    0.0001581139    er\n",
       "14 1.20  0.447550 0.404400154 0.999000    0.0000000000    er\n",
       "15 1.50  0.798275 0.260430707 0.998900    0.0006324555    er"
      ]
     },
     "metadata": {},
     "output_type": "display_data"
    }
   ],
   "source": [
    "er"
   ]
  },
  {
   "cell_type": "code",
   "execution_count": 13,
   "id": "b9632662",
   "metadata": {},
   "outputs": [
    {
     "data": {
      "image/png": "[encoded data removed]",
      "text/plain": [
       "plot without title"
      ]
     },
     "metadata": {
      "image/png": {
       "height": 420,
       "width": 420
      }
     },
     "output_type": "display_data"
    }
   ],
   "source": [
    "ggplot(er, aes(x = alpha, y = mean, col = c)) + geom_point() + geom_linerange(aes(x = alpha,\n",
    "    ymin = mean - err, ymax = mean + err)) + geom_line()"
   ]
  },
  {
   "cell_type": "code",
   "execution_count": 14,
   "id": "bf452ff6",
   "metadata": {},
   "outputs": [],
   "source": [
    "er %>% arrange(alpha) -> er"
   ]
  },
  {
   "cell_type": "code",
   "execution_count": 15,
   "id": "60e162e8",
   "metadata": {},
   "outputs": [],
   "source": [
    "# write.csv(er, 'output/conf_5000_50means_3gamma_2kmin')"
   ]
  }
 ],
 "metadata": {
  "kernelspec": {
   "display_name": "R",
   "language": "R",
   "name": "ir"
  },
  "language_info": {
   "codemirror_mode": "r",
   "file_extension": ".r",
   "mimetype": "text/x-r-source",
   "name": "R",
   "pygments_lexer": "r",
   "version": "4.2.2"
  }
 },
 "nbformat": 4,
 "nbformat_minor": 5
}
