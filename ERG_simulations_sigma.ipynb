{
 "cells": [
  {
   "cell_type": "markdown",
   "id": "5ae1bf25",
   "metadata": {},
   "source": [
    "## Libraries"
   ]
  },
  {
   "cell_type": "code",
   "execution_count": 9,
   "id": "008c63d6",
   "metadata": {},
   "outputs": [],
   "source": [
    "library(igraph) # for gra§phs"
   ]
  },
  {
   "cell_type": "markdown",
   "id": "4681c891",
   "metadata": {},
   "source": [
    "## Functions for evolution"
   ]
  },
  {
   "cell_type": "code",
   "execution_count": 10,
   "id": "f1469356",
   "metadata": {},
   "outputs": [],
   "source": [
    "seed <- function(nodes.state, n.seeds = 1, method = 'random'){\n",
    "    \n",
    "    N <- length(nodes.state)\n",
    "    \n",
    "    if (method == 'random'){\n",
    "        seeds.id <- sample.int(N, n.seeds)\n",
    "    }\n",
    "    \n",
    "    nodes.state[seeds.id] <- 1\n",
    "    \n",
    "    return(nodes.state)\n",
    "}"
   ]
  },
  {
   "cell_type": "code",
   "execution_count": 11,
   "id": "805075e1",
   "metadata": {},
   "outputs": [],
   "source": [
    "#this function is meanted for networks that do not change their structure during the evolution of the dynamics\n",
    "update <- function(nodes.state, nodes.threshold, nodes.neighbors){\n",
    "    \n",
    "    N <- length(nodes.state)\n",
    "    \n",
    "    nodes.state.in <- nodes.state\n",
    "    \n",
    "    nodes.state.out <- nodes.state\n",
    "    \n",
    "    for (i in 1:N){\n",
    "    \n",
    "        if (nodes.state[i] != 1){\n",
    "            \n",
    "            if(length(nodes.neighbors[[i]])!=0){\n",
    "        \n",
    "                if(sum(nodes.state.in[nodes.neighbors[[i]]])/length(nodes.neighbors[[i]]) >= nodes.threshold[i]){\n",
    "                    nodes.state.out[i] <- 1\n",
    "                }\n",
    "            }          \n",
    "        \n",
    "        }\n",
    "    \n",
    "    }\n",
    "    \n",
    "    return(nodes.state.out) \n",
    "}\n"
   ]
  },
  {
   "cell_type": "markdown",
   "id": "062b6e7a",
   "metadata": {},
   "source": [
    "# SIMULATION"
   ]
  },
  {
   "cell_type": "markdown",
   "id": "5f739f1f",
   "metadata": {},
   "source": [
    "## Parameters of the simulations for FIRST PLOT"
   ]
  },
  {
   "cell_type": "code",
   "execution_count": 14,
   "id": "d536e4bf",
   "metadata": {},
   "outputs": [],
   "source": [
    "n <- 10000 #number of nodes\n",
    "threshold.list <- seq(from = 0.1, to = 0.3, by=0.02)\n",
    "z.list <- seq(from=1, to=15, by=1)\n",
    "max.update <- 100   #maximum number of updates\n",
    "n.seeds <- 1 # number of initial seeds\n",
    "cascade.fraction.threshold <- 0.2 #fraction of nodes to be set to 1 to consider a cascade happening\n",
    "n.run <- 10 #number of runs for each set of parameters\n",
    "filename <- 'ERG_simulation_plot5_sigma0.05.csv'\n",
    "sd <- 0.05"
   ]
  },
  {
   "cell_type": "markdown",
   "id": "b8e778f9",
   "metadata": {},
   "source": [
    "## Simulations for FIRST PLOT"
   ]
  },
  {
   "cell_type": "code",
   "execution_count": 15,
   "id": "ab2522e0",
   "metadata": {},
   "outputs": [],
   "source": [
    "write.table(list('nodes', 'max.update', 'n.seeds', 'threshold', 'z', 'time', 'n.run', 'cascade.fraction'),\n",
    "                    file = filename,\n",
    "                    append = TRUE,\n",
    "                    sep = ',', \n",
    "                    row.names = FALSE,\n",
    "                    col.names = FALSE)\n",
    "\n",
    "\n",
    "for (phi in threshold.list){\n",
    "    \n",
    "    for (z in z.list){\n",
    "               \n",
    "        for(k in 1:n.run){\n",
    "            \n",
    "            cascade <- 0\n",
    "            \n",
    "            nodes.threshold <- rnorm(n=n, mean =phi , sd=sd)\n",
    "\n",
    "            p=z/n\n",
    "\n",
    "            g <- erdos.renyi.game(n = n,\n",
    "                         p.or.m = p,  \n",
    "                         type = \"gnp\",\n",
    "                         directed = FALSE,\n",
    "                         loops = FALSE)\n",
    "\n",
    "            nodes.neighbors <- list()\n",
    "            for (i in 1:n){\n",
    "                nodes.neighbors[i] <- list(neighbors(g, i))\n",
    "            }\n",
    "\n",
    "\n",
    "            nodes.state <- numeric(n) #initializing to zero all nodes state\n",
    "            t <- 0   #initial timeù\n",
    "\n",
    "            nodes.state <- seed(nodes.state, n.seeds) #inserting some seeds\n",
    "            t <- 1   #time at which happen the seed\n",
    "\n",
    "            for (j in 1:max.update){\n",
    "\n",
    "                nodes.state.previous <- nodes.state\n",
    "\n",
    "                nodes.state <- update(nodes.state, nodes.threshold, nodes.neighbors)\n",
    "\n",
    "                t <- t+1\n",
    "\n",
    "                if(identical(nodes.state, nodes.state.previous)){\n",
    "                    break\n",
    "                }\n",
    "            }\n",
    "\n",
    "            cascade <- sum(nodes.state)/n\n",
    "         \n",
    "\n",
    "            write.table(list(n, max.update, n.seeds, phi, z, t, k, cascade),\n",
    "            file = filename,\n",
    "            append = TRUE,\n",
    "            sep = ',', \n",
    "            row.names = FALSE,\n",
    "            col.names = FALSE)\n",
    "            \n",
    "            if(cascade>0.1){\n",
    "                break\n",
    "            }\n",
    "            \n",
    "        }\n",
    "    }\n",
    "}"
   ]
  }
 ],
 "metadata": {
  "kernelspec": {
   "display_name": "R",
   "language": "R",
   "name": "ir"
  }
 },
 "nbformat": 4,
 "nbformat_minor": 5
}
