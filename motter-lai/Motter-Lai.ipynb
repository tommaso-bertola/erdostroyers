{
 "cells": [
  {
   "cell_type": "code",
   "execution_count": 1,
   "id": "51bc180d",
   "metadata": {},
   "outputs": [
    {
     "name": "stderr",
     "output_type": "stream",
     "text": [
      "Loading required package: iterators\n",
      "\n",
      "Loading required package: parallel\n",
      "\n"
     ]
    }
   ],
   "source": [
    "library(igraph, warn.conflicts = F, verbose = F)\n",
    "library(foreach, warn.conflicts = F, verbose = F)\n",
    "library(doParallel, warn.conflicts = F, verbose = F)\n",
    "library(ggplot2)"
   ]
  },
  {
   "cell_type": "code",
   "execution_count": 2,
   "id": "b9d83961",
   "metadata": {},
   "outputs": [],
   "source": [
    "totalCores = detectCores()"
   ]
  },
  {
   "cell_type": "code",
   "execution_count": 3,
   "id": "ce3f0c16",
   "metadata": {},
   "outputs": [],
   "source": [
    "cluster <- makeCluster(totalCores[1]-1) \n",
    "registerDoParallel(cluster)"
   ]
  },
  {
   "cell_type": "code",
   "execution_count": 4,
   "id": "6bc7ae65",
   "metadata": {},
   "outputs": [],
   "source": [
    "alpha <- 0.01\n",
    "n <- 1000\n",
    "p <- 1.1*log(n)/n\n",
    "n_retry <- 10\n",
    "gamma<-3"
   ]
  },
  {
   "cell_type": "code",
   "execution_count": 5,
   "id": "92c372c3",
   "metadata": {},
   "outputs": [],
   "source": [
    "# k_min <- 2\n",
    "# k_max <- k_min * floor(n^(1/(gamma - 1)))+50"
   ]
  },
  {
   "cell_type": "code",
   "execution_count": 6,
   "id": "64bf6cde",
   "metadata": {},
   "outputs": [],
   "source": [
    "metric <- function(g, method = \"be\") {\n",
    "    if (method == \"be\") {\n",
    "        return(betweenness(g, normalized = F))\n",
    "    } else if (method == \"de\") {\n",
    "        return(degree(g))\n",
    "    }\n",
    "}"
   ]
  },
  {
   "cell_type": "code",
   "execution_count": 7,
   "id": "76f3236f",
   "metadata": {},
   "outputs": [],
   "source": [
    "alphas<-c(0.001,seq(from=0.1, to=0.9, by=0.1))"
   ]
  },
  {
   "cell_type": "code",
   "execution_count": 8,
   "id": "c767e9bd",
   "metadata": {},
   "outputs": [],
   "source": [
    "degs <- sample(x = 2:500, size = 5000, prob = (2:500)^(-3), replace = T)"
   ]
  },
  {
   "cell_type": "code",
   "execution_count": 9,
   "id": "7253b8db",
   "metadata": {},
   "outputs": [],
   "source": [
    "generate <- function(..., method = \"er\") {\n",
    "    if (method == \"er\") {\n",
    "        g <- sample_gnp(n, p)\n",
    "        while (clusters(g)$no > 1) {\n",
    "            g <- sample_gnp(n, p)\n",
    "        }\n",
    "        return(g)\n",
    "    } else if (method == \"pa\") {\n",
    "        g <- sample_pa(..., directed = F, power = 1.5)\n",
    "        return(g)\n",
    "    } else if (method == \"conf\") {\n",
    "        g <- sample_degseq(out.deg = ..., method = \"simple.no.multiple\")\n",
    "        while (clusters(g)$no > 1) {\n",
    "            g <- sample_degseq(out.deg = ..., method = \"simple.no.multiple\")\n",
    "        }\n",
    "        print(components(g)$no)\n",
    "        return(g)\n",
    "    }\n",
    "\n",
    "}"
   ]
  },
  {
   "cell_type": "code",
   "execution_count": 10,
   "id": "8147622f",
   "metadata": {},
   "outputs": [],
   "source": [
    "destroy <- function(g, ...) {\n",
    "    n <- length(g)\n",
    "    V(g)$cst_ids <- c(1:n)\n",
    "    V(g)$load <- metric(g, ...)\n",
    "    V(g)$capacity <- (1 + alphas[index_alpha]) * V(g)$load\n",
    "\n",
    "    nodes_to_fail <- order(V(g)$load, decreasing = T)[1]\n",
    "    cst_ids_failed <- V(g)$cst_ids[nodes_to_fail]\n",
    "\n",
    "    g_failed <- g\n",
    "\n",
    "    counter <- 0\n",
    "\n",
    "    while (length(nodes_to_fail > 0)) {\n",
    "        g_failed <- delete_vertices(g_failed, nodes_to_fail)\n",
    "\n",
    "        V(g_failed)$new_load <- metric(g_failed)\n",
    "\n",
    "        failing_nodes <- V(g_failed)$new_load > V(g_failed)$capacity\n",
    "\n",
    "        nodes_to_fail <- V(g_failed)[failing_nodes]\n",
    "\n",
    "        cst_ids_failed <- c(cst_ids_failed, V(g_failed)$cst_ids[nodes_to_fail])\n",
    "\n",
    "        counter <- counter + 1\n",
    "    }\n",
    "    return(list(fraction_survived = length(g_failed)/length(g), counter = counter))\n",
    "}"
   ]
  },
  {
   "cell_type": "code",
   "execution_count": 11,
   "id": "e494cb55",
   "metadata": {},
   "outputs": [],
   "source": [
    "results <- foreach(index_alpha = 1:length(alphas), .combine = cbind) %dopar% {\n",
    "    library(igraph, warn.conflicts = F, verbose = F)\n",
    "\n",
    "    percent <- vector()\n",
    "    counts <- vector()\n",
    "    for (i in 1:n_retry) {\n",
    "        g <- generate(degs, method = \"pa\")\n",
    "        output_sim <- destroy(g, method = \"be\")\n",
    "        percent[i] <- output_sim$fraction_survived\n",
    "        counts[i] <- output_sim$counter\n",
    "    }\n",
    "\n",
    "    return(c(mean(percent), sqrt(var(percent)), mean(counts), components(g)$no))\n",
    "}"
   ]
  },
  {
   "cell_type": "code",
   "execution_count": 12,
   "id": "575542b3",
   "metadata": {},
   "outputs": [],
   "source": [
    "rownames(results)<- c('mean', 'std', 'counts', 'components')\n",
    "results<-t(results)\n",
    "res<-cbind(results, alphas)\n",
    "\n",
    "colnames(res)<- c('mean', 'std', 'counts','components', 'alphas')\n",
    "\n",
    "rownames(res)<-NULL\n",
    "\n",
    "res<-as.data.frame(res)"
   ]
  },
  {
   "cell_type": "code",
   "execution_count": 13,
   "id": "04c852e5",
   "metadata": {},
   "outputs": [
    {
     "data": {
      "text/html": [
       "<table class=\"dataframe\">\n",
       "<caption>A data.frame: 10 × 5</caption>\n",
       "<thead>\n",
       "\t<tr><th scope=col>mean</th><th scope=col>std</th><th scope=col>counts</th><th scope=col>components</th><th scope=col>alphas</th></tr>\n",
       "\t<tr><th scope=col>&lt;dbl&gt;</th><th scope=col>&lt;dbl&gt;</th><th scope=col>&lt;dbl&gt;</th><th scope=col>&lt;dbl&gt;</th><th scope=col>&lt;dbl&gt;</th></tr>\n",
       "</thead>\n",
       "<tbody>\n",
       "\t<tr><td>0.5</td><td>0</td><td>1</td><td>1</td><td>0.001</td></tr>\n",
       "\t<tr><td>0.5</td><td>0</td><td>1</td><td>1</td><td>0.100</td></tr>\n",
       "\t<tr><td>0.5</td><td>0</td><td>1</td><td>1</td><td>0.200</td></tr>\n",
       "\t<tr><td>0.5</td><td>0</td><td>1</td><td>1</td><td>0.300</td></tr>\n",
       "\t<tr><td>0.5</td><td>0</td><td>1</td><td>1</td><td>0.400</td></tr>\n",
       "\t<tr><td>0.5</td><td>0</td><td>1</td><td>1</td><td>0.500</td></tr>\n",
       "\t<tr><td>0.5</td><td>0</td><td>1</td><td>1</td><td>0.600</td></tr>\n",
       "\t<tr><td>0.5</td><td>0</td><td>1</td><td>1</td><td>0.700</td></tr>\n",
       "\t<tr><td>0.5</td><td>0</td><td>1</td><td>1</td><td>0.800</td></tr>\n",
       "\t<tr><td>0.5</td><td>0</td><td>1</td><td>1</td><td>0.900</td></tr>\n",
       "</tbody>\n",
       "</table>\n"
      ],
      "text/latex": [
       "A data.frame: 10 × 5\n",
       "\\begin{tabular}{lllll}\n",
       " mean & std & counts & components & alphas\\\\\n",
       " <dbl> & <dbl> & <dbl> & <dbl> & <dbl>\\\\\n",
       "\\hline\n",
       "\t 0.5 & 0 & 1 & 1 & 0.001\\\\\n",
       "\t 0.5 & 0 & 1 & 1 & 0.100\\\\\n",
       "\t 0.5 & 0 & 1 & 1 & 0.200\\\\\n",
       "\t 0.5 & 0 & 1 & 1 & 0.300\\\\\n",
       "\t 0.5 & 0 & 1 & 1 & 0.400\\\\\n",
       "\t 0.5 & 0 & 1 & 1 & 0.500\\\\\n",
       "\t 0.5 & 0 & 1 & 1 & 0.600\\\\\n",
       "\t 0.5 & 0 & 1 & 1 & 0.700\\\\\n",
       "\t 0.5 & 0 & 1 & 1 & 0.800\\\\\n",
       "\t 0.5 & 0 & 1 & 1 & 0.900\\\\\n",
       "\\end{tabular}\n"
      ],
      "text/markdown": [
       "\n",
       "A data.frame: 10 × 5\n",
       "\n",
       "| mean &lt;dbl&gt; | std &lt;dbl&gt; | counts &lt;dbl&gt; | components &lt;dbl&gt; | alphas &lt;dbl&gt; |\n",
       "|---|---|---|---|---|\n",
       "| 0.5 | 0 | 1 | 1 | 0.001 |\n",
       "| 0.5 | 0 | 1 | 1 | 0.100 |\n",
       "| 0.5 | 0 | 1 | 1 | 0.200 |\n",
       "| 0.5 | 0 | 1 | 1 | 0.300 |\n",
       "| 0.5 | 0 | 1 | 1 | 0.400 |\n",
       "| 0.5 | 0 | 1 | 1 | 0.500 |\n",
       "| 0.5 | 0 | 1 | 1 | 0.600 |\n",
       "| 0.5 | 0 | 1 | 1 | 0.700 |\n",
       "| 0.5 | 0 | 1 | 1 | 0.800 |\n",
       "| 0.5 | 0 | 1 | 1 | 0.900 |\n",
       "\n"
      ],
      "text/plain": [
       "   mean std counts components alphas\n",
       "1  0.5  0   1      1          0.001 \n",
       "2  0.5  0   1      1          0.100 \n",
       "3  0.5  0   1      1          0.200 \n",
       "4  0.5  0   1      1          0.300 \n",
       "5  0.5  0   1      1          0.400 \n",
       "6  0.5  0   1      1          0.500 \n",
       "7  0.5  0   1      1          0.600 \n",
       "8  0.5  0   1      1          0.700 \n",
       "9  0.5  0   1      1          0.800 \n",
       "10 0.5  0   1      1          0.900 "
      ]
     },
     "metadata": {},
     "output_type": "display_data"
    }
   ],
   "source": [
    "res"
   ]
  },
  {
   "cell_type": "code",
   "execution_count": 14,
   "id": "0af79821",
   "metadata": {},
   "outputs": [],
   "source": [
    "# write.csv(res, 'er_p5_n_10attempts.csv')"
   ]
  },
  {
   "cell_type": "code",
   "execution_count": 15,
   "id": "2e9b5cdb",
   "metadata": {},
   "outputs": [
    {
     "data": {
      "image/png": "[encoded data removed]",
      "text/plain": [
       "plot without title"
      ]
     },
     "metadata": {
      "image/png": {
       "height": 420,
       "width": 420
      }
     },
     "output_type": "display_data"
    }
   ],
   "source": [
    "ggplot(res, aes(x = alphas, y = mean)) + geom_line() + geom_point() + geom_errorbar(aes(ymin = mean -\n",
    "    std, ymax = mean + std)) + labs(x = expression(paste(\"Parameter \", alpha)), y = \"G= N'/N\") +\n",
    "    theme_linedraw(base_size = 18, ) + scale_color_manual(values = c(\"#999999\", \"#E69F00\"),\n",
    "    )+ylim(0,1)"
   ]
  },
  {
   "cell_type": "code",
   "execution_count": 16,
   "id": "5baef8aa",
   "metadata": {},
   "outputs": [],
   "source": [
    "#Stop cluster\n",
    "stopCluster(cluster)\n"
   ]
  },
  {
   "cell_type": "code",
   "execution_count": null,
   "id": "00d2e18d",
   "metadata": {},
   "outputs": [],
   "source": []
  }
 ],
 "metadata": {
  "kernelspec": {
   "display_name": "R",
   "language": "R",
   "name": "ir"
  },
  "language_info": {
   "codemirror_mode": "r",
   "file_extension": ".r",
   "mimetype": "text/x-r-source",
   "name": "R",
   "pygments_lexer": "r",
   "version": "4.2.2"
  }
 },
 "nbformat": 4,
 "nbformat_minor": 5
}
