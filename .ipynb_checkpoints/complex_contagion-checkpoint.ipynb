{
 "cells": [
  {
   "cell_type": "markdown",
   "id": "27973359",
   "metadata": {},
   "source": [
    "# COMPLEX - CONTAGION\n",
    "\n",
    "#### Group project: Physics and dynamics of complex networks"
   ]
  },
  {
   "cell_type": "markdown",
   "id": "ae4037ed",
   "metadata": {},
   "source": [
    "In this jupyter notebook we reproduce the results of the Ref: *Watts, Duncan J. \"A simple model of global cascades on random networks.\" Proceedings of the National Academy of Sciences 99.9 (2002): 5766-5771.*"
   ]
  },
  {
   "cell_type": "markdown",
   "id": "1cd568e5",
   "metadata": {},
   "source": [
    "#### Libraries"
   ]
  },
  {
   "cell_type": "code",
   "execution_count": null,
   "id": "8f900183",
   "metadata": {},
   "outputs": [],
   "source": [
    "library(igraph) # for graphs"
   ]
  },
  {
   "cell_type": "markdown",
   "id": "cbdb8cc2",
   "metadata": {},
   "source": [
    "#### Functions for the contagion evolution"
   ]
  },
  {
   "cell_type": "code",
   "execution_count": null,
   "id": "ec68aa78",
   "metadata": {},
   "outputs": [],
   "source": [
    "#this functions implants the seed of state 1 in the network, \n",
    "#by random as deafault \n",
    "#and as many sees as many is specified by the parameter n.seed\n",
    "\n",
    "seed <- function(nodes.state, n.seeds = 1, method = 'random'){\n",
    "    \n",
    "    N <- length(nodes.state)\n",
    "    \n",
    "    if (method == 'random'){\n",
    "        seeds.id <- sample.int(N, n.seeds)\n",
    "    }\n",
    "    \n",
    "    nodes.state[seeds.id] <- 1\n",
    "    \n",
    "    return(nodes.state)\n",
    "}"
   ]
  },
  {
   "cell_type": "code",
   "execution_count": null,
   "id": "1ad65786",
   "metadata": {},
   "outputs": [],
   "source": [
    "#this function is meanted for networks that do not \n",
    "#change their structure during the evolution of the dynamics.\n",
    "#The function update the state of each node of a threshold based \n",
    "#on his neighbours and on the node threshold\n",
    "\n",
    "update <- function(nodes.state, nodes.threshold, nodes.neighbors){\n",
    "    \n",
    "    N <- length(nodes.state)\n",
    "    \n",
    "    nodes.state.in <- nodes.state\n",
    "    \n",
    "    nodes.state.out <- nodes.state\n",
    "    \n",
    "    for (i in 1:N){\n",
    "    \n",
    "        if (nodes.state[i] != 1){\n",
    "            \n",
    "            if(length(nodes.neighbors[[i]])!=0){\n",
    "        \n",
    "                if(sum(nodes.state.in[nodes.neighbors[[i]]])/length(nodes.neighbors[[i]]) >= nodes.threshold[i]){\n",
    "                    nodes.state.out[i] <- 1\n",
    "                }\n",
    "            }          \n",
    "        \n",
    "        }\n",
    "    \n",
    "    }\n",
    "    \n",
    "    return(nodes.state.out) \n",
    "}\n"
   ]
  },
  {
   "cell_type": "markdown",
   "id": "8e3ed92e",
   "metadata": {},
   "source": [
    "## SIMULATIONS"
   ]
  },
  {
   "cell_type": "markdown",
   "id": "068b5f7b",
   "metadata": {},
   "source": [
    "### Simulation of random graph networks with uniform threshold"
   ]
  },
  {
   "cell_type": "markdown",
   "id": "80b3d7cb",
   "metadata": {},
   "source": [
    "#### Parameters of the simulation"
   ]
  },
  {
   "cell_type": "code",
   "execution_count": null,
   "id": "6772c950",
   "metadata": {},
   "outputs": [],
   "source": [
    "n <- 10000 #number of nodes\n",
    "threshold.list <- seq(from = 0.1, to = 0.26, by=0.01) #values of threshold used\n",
    "z.list <- seq(from=17, to=30, by=1) #values of avarage degree used\n",
    "max.update <- 100   #maximum number of updates\n",
    "n.seeds <- 1 # number of initial seeds\n",
    "n.run <- 10 #number of runs for each set of parameters\n",
    "filename <- 'ERG_simulation_data2.csv' # file in which to save the results"
   ]
  },
  {
   "cell_type": "markdown",
   "id": "6a4945c9",
   "metadata": {},
   "source": [
    "#### Simulation"
   ]
  },
  {
   "cell_type": "code",
   "execution_count": null,
   "id": "2f762c86",
   "metadata": {},
   "outputs": [],
   "source": [
    "#writing the head in the file\n",
    "write.table(list('nodes', 'max.update', 'n.seeds', 'threshold', 'z', 'time', 'n.run', 'cascade.fraction'),\n",
    "                    file = filename,\n",
    "                    append = TRUE,\n",
    "                    sep = ',', \n",
    "                    row.names = FALSE,\n",
    "                    col.names = FALSE)\n",
    "\n",
    "\n",
    "for (phi in threshold.list){ #for loop on the threshold\n",
    "    \n",
    "    for (z in z.list){ #for loop on z\n",
    "               \n",
    "        for(k in 1:n.run){ #repeat with the same parameters n.run times\n",
    "            \n",
    "            #Initialization fo the network\n",
    "            cascade <- 0\n",
    "            \n",
    "            nodes.threshold <- rep(phi, n)\n",
    "\n",
    "            p=z/n\n",
    "\n",
    "            g <- erdos.renyi.game(n = n,\n",
    "                         p.or.m = p,  \n",
    "                         type = \"gnp\",\n",
    "                         directed = FALSE,\n",
    "                         loops = FALSE)\n",
    "\n",
    "            #Saving the negihbours of each node\n",
    "            nodes.neighbors <- list()\n",
    "            for (i in 1:n){\n",
    "                nodes.neighbors[i] <- list(neighbors(g, i))\n",
    "            }\n",
    "\n",
    "            #initializaing the state of each node\n",
    "            nodes.state <- numeric(n) #initializing to zero all nodes state\n",
    "            t <- 0   #initial time\n",
    "\n",
    "            nodes.state <- seed(nodes.state, n.seeds) #inserting some seeds\n",
    "            t <- 1   #time at which happen the seed\n",
    "\n",
    "            #updating the state of the nodes maximum max.update times\n",
    "            for (j in 1:max.update){\n",
    "\n",
    "                nodes.state.previous <- nodes.state\n",
    "\n",
    "                nodes.state <- update(nodes.state, nodes.threshold, nodes.neighbors)\n",
    "\n",
    "                #adjourn of the time\n",
    "                t <- t+1\n",
    "\n",
    "                #break if the state remain the same\n",
    "                if(identical(nodes.state, nodes.state.previous)){\n",
    "                    break\n",
    "                }\n",
    "            }\n",
    "\n",
    "            #saving the fraction of nodes that are in state 1\n",
    "            cascade <- sum(nodes.state)/n\n",
    "         \n",
    "            #saving the results in a csv file\n",
    "            write.table(list(n, max.update, n.seeds, phi, z, t, k, cascade),\n",
    "            file = filename,\n",
    "            append = TRUE,\n",
    "            sep = ',', \n",
    "            row.names = FALSE,\n",
    "            col.names = FALSE)\n",
    "            \n",
    "        }\n",
    "    }\n",
    "}"
   ]
  },
  {
   "cell_type": "markdown",
   "id": "3ea91b88",
   "metadata": {},
   "source": [
    "## Studying the time of evolution as function of the avarage degree z"
   ]
  },
  {
   "cell_type": "markdown",
   "id": "059b78b1",
   "metadata": {},
   "source": [
    "#### Parameters of the simulation"
   ]
  },
  {
   "cell_type": "code",
   "execution_count": null,
   "id": "8e8d9447",
   "metadata": {},
   "outputs": [],
   "source": [
    "n <- 10000 #number of nodes\n",
    "threshold.list <- c(0.18) #values of threshold used\n",
    "z.list <- seq(from=0.5, to=7, by=0.1) #values of avarage degree used\n",
    "max.update <- 100   #maximum number of updates\n",
    "n.seeds <- 1 # number of initial seeds\n",
    "n.run <- 10 #number of runs for each set of parameters\n",
    "filename <- 'ERG_simulation_plot2.csv' #file name in whoch to save data"
   ]
  },
  {
   "cell_type": "code",
   "execution_count": null,
   "id": "b0a29f85",
   "metadata": {},
   "outputs": [],
   "source": [
    "write.table(list('nodes', 'max.update', 'n.seeds', 'threshold', 'z', 'time', 'n.run', 'cascade.fraction'),\n",
    "                    file = filename,\n",
    "                    append = TRUE,\n",
    "                    sep = ',', \n",
    "                    row.names = FALSE,\n",
    "                    col.names = FALSE)\n",
    "\n",
    "\n",
    "for (phi in threshold.list){\n",
    "    \n",
    "    for (z in z.list){ \n",
    "        \n",
    "        for(j in 1:n.run){\n",
    "            \n",
    "            cascade <- 0\n",
    "            \n",
    "            nodes.threshold <- rep(phi, n)\n",
    "\n",
    "            p=z/n\n",
    "\n",
    "            g <- erdos.renyi.game(n = n,\n",
    "                         p.or.m = p,  \n",
    "                         type = \"gnp\",\n",
    "                         directed = FALSE,\n",
    "                         loops = FALSE)\n",
    "\n",
    "            nodes.neighbors <- list()\n",
    "            for (i in 1:n){\n",
    "                nodes.neighbors[i] <- list(neighbors(g, i))\n",
    "            }\n",
    "\n",
    "\n",
    "            nodes.state <- numeric(n) #initializing to zero all nodes state\n",
    "            t <- 0   #initial time\n",
    "\n",
    "            nodes.state <- seed(nodes.state, n.seeds) #inserting some seeds\n",
    "            t <- 1   #time at which happen the seed\n",
    "\n",
    "            for (j in 1:max.update){\n",
    "\n",
    "                nodes.state.previous <- nodes.state\n",
    "\n",
    "                nodes.state <- update(nodes.state, nodes.threshold, nodes.neighbors)\n",
    "\n",
    "                t <- t+1\n",
    "\n",
    "                if(identical(nodes.state, nodes.state.previous)){\n",
    "                    break\n",
    "                }\n",
    "            }\n",
    "\n",
    "\n",
    "            cascade <- sum(nodes.state)/n\n",
    "\n",
    "            write.table(list(n, max.update, n.seeds, phi, z, t, n.run, cascade),\n",
    "            file = filename,\n",
    "            append = TRUE,\n",
    "            sep = ',', \n",
    "            row.names = FALSE,\n",
    "            col.names = FALSE)\n",
    "        }\n",
    "    }\n",
    "}"
   ]
  },
  {
   "cell_type": "markdown",
   "id": "33c8e957",
   "metadata": {},
   "source": [
    "## Simulations with normal distributed threshold"
   ]
  },
  {
   "cell_type": "markdown",
   "id": "7888e453",
   "metadata": {},
   "source": [
    "#### Parameters of the simulation"
   ]
  },
  {
   "cell_type": "code",
   "execution_count": null,
   "id": "ea96af41",
   "metadata": {},
   "outputs": [],
   "source": [
    "n <- 10000 #number of nodes\n",
    "threshold.list <- seq(from = 0.1, to = 0.3, by=0.02)  #mean of the threshold\n",
    "z.list <- seq(from=1, to=15, by=1) #avarage degree used\n",
    "max.update <- 100   #maximum number of updates\n",
    "n.seeds <- 1 # number of initial seeds\n",
    "n.run <- 10 #number of runs for each set of parameters\n",
    "filename <- 'ERG_simulation_plot5_sigma0.05.csv' #file in which save the results\n",
    "sd <- 0.05  #standard deviation "
   ]
  },
  {
   "cell_type": "markdown",
   "id": "bcf6ea2f",
   "metadata": {},
   "source": [
    "#### Simulation"
   ]
  },
  {
   "cell_type": "code",
   "execution_count": null,
   "id": "0054e866",
   "metadata": {},
   "outputs": [],
   "source": [
    "write.table(list('nodes', 'max.update', 'n.seeds', 'threshold', 'z', 'time', 'n.run', 'cascade.fraction'),\n",
    "                    file = filename,\n",
    "                    append = TRUE,\n",
    "                    sep = ',', \n",
    "                    row.names = FALSE,\n",
    "                    col.names = FALSE)\n",
    "\n",
    "\n",
    "for (phi in threshold.list){\n",
    "    \n",
    "    for (z in z.list){\n",
    "               \n",
    "        for(k in 1:n.run){\n",
    "            \n",
    "            cascade <- 0\n",
    "            \n",
    "            nodes.threshold <- rnorm(n=n, mean =phi , sd=sd) #the threshold is now normally sampled\n",
    "\n",
    "            p=z/n\n",
    "\n",
    "            g <- erdos.renyi.game(n = n,\n",
    "                         p.or.m = p,  \n",
    "                         type = \"gnp\",\n",
    "                         directed = FALSE,\n",
    "                         loops = FALSE)\n",
    "\n",
    "            nodes.neighbors <- list()\n",
    "            for (i in 1:n){\n",
    "                nodes.neighbors[i] <- list(neighbors(g, i))\n",
    "            }\n",
    "\n",
    "\n",
    "            nodes.state <- numeric(n) #initializing to zero all nodes state\n",
    "            t <- 0   #initial time\n",
    "\n",
    "            nodes.state <- seed(nodes.state, n.seeds) #inserting some seeds\n",
    "            t <- 1   #time at which happen the seed\n",
    "\n",
    "            for (j in 1:max.update){\n",
    "\n",
    "                nodes.state.previous <- nodes.state\n",
    "\n",
    "                nodes.state <- update(nodes.state, nodes.threshold, nodes.neighbors)\n",
    "\n",
    "                t <- t+1\n",
    "\n",
    "                if(identical(nodes.state, nodes.state.previous)){\n",
    "                    break\n",
    "                }\n",
    "            }\n",
    "\n",
    "            cascade <- sum(nodes.state)/n\n",
    "         \n",
    "\n",
    "            write.table(list(n, max.update, n.seeds, phi, z, t, k, cascade),\n",
    "            file = filename,\n",
    "            append = TRUE,\n",
    "            sep = ',', \n",
    "            row.names = FALSE,\n",
    "            col.names = FALSE)\n",
    "            \n",
    "            if(cascade>0.1){  #we are only interested in finding that a network does cascade with these parameters\n",
    "                break\n",
    "            }\n",
    "            \n",
    "        }\n",
    "    }\n",
    "}"
   ]
  },
  {
   "cell_type": "markdown",
   "id": "ebe1f5be",
   "metadata": {},
   "source": [
    "## Simulation with Barabasi-Albert model"
   ]
  },
  {
   "cell_type": "markdown",
   "id": "d3659beb",
   "metadata": {},
   "source": [
    "#### Parameters of the simulation"
   ]
  },
  {
   "cell_type": "code",
   "execution_count": null,
   "id": "ea05c55b",
   "metadata": {},
   "outputs": [],
   "source": [
    "n <- 10000 #number of nodes\n",
    "threshold.list <-seq(from = 0.02, to = 0.1, by=0.02) #threshold list\n",
    "m.list <- seq(from=1, to=15, by=1) # z=2m for a Barabasi Albert model\n",
    "max.update <- 100   #maximum number of updates\n",
    "n.seeds <- 1 # number of initial seeds\n",
    "n.run <- 10 #number of runs for each set of parameters\n",
    "filename <- 'BA_simulation_data2.csv'"
   ]
  },
  {
   "cell_type": "markdown",
   "id": "d6bd28f9",
   "metadata": {},
   "source": [
    "#### Simulation"
   ]
  },
  {
   "cell_type": "code",
   "execution_count": null,
   "id": "fd3f61ce",
   "metadata": {},
   "outputs": [],
   "source": [
    "write.table(list('nodes', 'max.update', 'n.seeds', 'threshold', 'z', 'time', 'n.run', 'cascade.fraction'),\n",
    "                    file = filename,\n",
    "                    append = TRUE,\n",
    "                    sep = ',', \n",
    "                    row.names = FALSE,\n",
    "                    col.names = FALSE)\n",
    "\n",
    "\n",
    "for (phi in threshold.list){\n",
    "    \n",
    "    for (m in m.list){\n",
    "               \n",
    "        for(k in 1:n.run){\n",
    "            \n",
    "            #Initialinz a Barabasi-Albert network\n",
    "            cascade <- 0\n",
    "            \n",
    "            nodes.threshold <- rep(phi, n)\n",
    "\n",
    "            g <- barabasi.game(n, m = m, directed=FALSE)\n",
    "\n",
    "            nodes.neighbors <- list()\n",
    "            for (i in 1:n){\n",
    "                nodes.neighbors[i] <- list(neighbors(g, i))\n",
    "            }\n",
    "\n",
    "\n",
    "            nodes.state <- numeric(n) #initializing to zero all nodes state\n",
    "            t <- 0   #initial time\n",
    "\n",
    "            nodes.state <- seed(nodes.state, n.seeds) #inserting some seeds\n",
    "            t <- 1   #time at which happen the seed\n",
    "\n",
    "            for (j in 1:max.update){\n",
    "\n",
    "                nodes.state.previous <- nodes.state\n",
    "\n",
    "                nodes.state <- update(nodes.state, nodes.threshold, nodes.neighbors)\n",
    "\n",
    "                t <- t+1\n",
    "\n",
    "                if(identical(nodes.state, nodes.state.previous)){\n",
    "                    break\n",
    "                }\n",
    "            }\n",
    "\n",
    "            cascade <- sum(nodes.state)/n\n",
    "         \n",
    "\n",
    "            write.table(list(n, max.update, n.seeds, phi, mean(degree(g)), t, k, cascade),\n",
    "            file = filename,\n",
    "            append = TRUE,\n",
    "            sep = ',', \n",
    "            row.names = FALSE,\n",
    "            col.names = FALSE)\n",
    "            \n",
    "            if(cascade>0.1){\n",
    "                break\n",
    "            }  \n",
    "        }\n",
    "    }\n",
    "}"
   ]
  }
 ],
 "metadata": {
  "kernelspec": {
   "display_name": "R",
   "language": "R",
   "name": "ir"
  },
  "language_info": {
   "codemirror_mode": "r",
   "file_extension": ".r",
   "mimetype": "text/x-r-source",
   "name": "R",
   "pygments_lexer": "r",
   "version": "4.2.3"
  }
 },
 "nbformat": 4,
 "nbformat_minor": 5
}
